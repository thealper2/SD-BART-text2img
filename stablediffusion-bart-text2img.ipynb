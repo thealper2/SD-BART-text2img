{
 "cells": [
  {
   "cell_type": "markdown",
   "metadata": {},
   "source": [
    "# Import Libraries"
   ]
  },
  {
   "cell_type": "code",
   "execution_count": null,
   "metadata": {},
   "outputs": [],
   "source": [
    "!pip install -q diffusers"
   ]
  },
  {
   "cell_type": "code",
   "execution_count": null,
   "metadata": {},
   "outputs": [],
   "source": [
    "import pandas as pd\n",
    "import matplotlib.pyplot as plt\n",
    "import torch\n",
    "from transformers import BartTokenizer, BartForConditionalGeneration\n",
    "from diffusers import StableDiffusionPipeline\n",
    "from tqdm import tqdm"
   ]
  },
  {
   "cell_type": "markdown",
   "metadata": {},
   "source": [
    "# Load Data"
   ]
  },
  {
   "cell_type": "code",
   "execution_count": null,
   "metadata": {},
   "outputs": [],
   "source": [
    "df = pd.read_csv('/kaggle/input/grimms-fairy-tales/grimms_fairytales.csv', index_col=0)\n",
    "df.head()"
   ]
  },
  {
   "cell_type": "code",
   "execution_count": null,
   "metadata": {},
   "outputs": [],
   "source": [
    "df.shape"
   ]
  },
  {
   "cell_type": "markdown",
   "metadata": {},
   "source": [
    "# Pipeline"
   ]
  },
  {
   "cell_type": "code",
   "execution_count": null,
   "metadata": {
    "_kg_hide-output": true
   },
   "outputs": [],
   "source": [
    "pipe1 = StableDiffusionPipeline.from_pretrained(\n",
    "    'CompVis/stable-diffusion-v1-4', revision='fp16', torch_dtype=torch.float16\n",
    ")\n",
    "pipe1.to('cuda')"
   ]
  },
  {
   "cell_type": "code",
   "execution_count": null,
   "metadata": {
    "_kg_hide-output": true
   },
   "outputs": [],
   "source": [
    "bart_model = BartForConditionalGeneration.from_pretrained(\"facebook/bart-large-cnn\")\n",
    "bart_tokenizer = BartTokenizer.from_pretrained(\"facebook/bart-large-cnn\")"
   ]
  },
  {
   "cell_type": "markdown",
   "metadata": {},
   "source": [
    "# Generate"
   ]
  },
  {
   "cell_type": "code",
   "execution_count": null,
   "metadata": {},
   "outputs": [],
   "source": [
    "device = 'cuda'\n",
    "seed = 7"
   ]
  },
  {
   "cell_type": "code",
   "execution_count": null,
   "metadata": {},
   "outputs": [],
   "source": [
    "for i, item in df[:1].iterrows():\n",
    "    test = item['Text']\n",
    "    inputs = bart_tokenizer([test], max_length=1024, return_tensors=\"pt\")\n",
    "    summary_ids = bart_model.generate(inputs['input_ids'], num_beams=4, max_length=100, early_stopping=True)\n",
    "    summary = ([bart_tokenizer.decode(i, skip_special_tokens=True, clean_up_tokenization_spaces=False) for i in summary_ids])\n",
    "    prompt = summary[0]\n",
    "    \n",
    "    images = pipe1(\n",
    "        prompt=prompt,\n",
    "        generator=torch.Generator('cuda').manual_seed(seed)\n",
    "    ).images\n",
    "    \n",
    "    plt.figure(figsize=(5, 5))\n",
    "    plt.imshow(images[0])\n",
    "    plt.title(item['Title'])\n",
    "    plt.axis('off')\n",
    "    plt.show()"
   ]
  },
  {
   "cell_type": "code",
   "execution_count": null,
   "metadata": {},
   "outputs": [],
   "source": [
    "# For all dataset\n",
    "#device = 'cuda'\n",
    "#fig, axes = plt.subplots(nrows=8, ncols=8, figsize=(20, 20))\n",
    "#for idx, item in tqdm(df.iterrows()):\n",
    "#    test = item['Text']\n",
    "#    inputs = bart_tokenizer([test], max_length=1024, return_tensors=\"pt\")\n",
    "#    summary_ids = bart_model.generate(inputs['input_ids'], num_beams=4, max_length=100, early_stopping=True)\n",
    "#    summary = ([bart_tokenizer.decode(i, skip_special_tokens=True, clean_up_tokenization_spaces=False) for i in summary_ids])\n",
    "#    prompt = summary[0]\n",
    "#\n",
    "#    images = pipe1(\n",
    "#        prompt=prompt,\n",
    "#        generator=torch.Generator('cuda').manual_seed(seed)\n",
    "#    ).images\n",
    "#\n",
    "#    axes[idx // 8][idx % 8].imshow(images[0])\n",
    "#    axes[idx // 8][idx % 8].set_xticks([])\n",
    "#    axes[idx // 8][idx % 8].set_yticks([])\n",
    "#    axes[idx // 8][idx % 8].set_title(item['Title'])\n",
    "#plt.show()"
   ]
  }
 ],
 "metadata": {
  "kernelspec": {
   "display_name": "Python 3 (ipykernel)",
   "language": "python",
   "name": "python3"
  },
  "language_info": {
   "codemirror_mode": {
    "name": "ipython",
    "version": 3
   },
   "file_extension": ".py",
   "mimetype": "text/x-python",
   "name": "python",
   "nbconvert_exporter": "python",
   "pygments_lexer": "ipython3",
   "version": "3.10.12"
  }
 },
 "nbformat": 4,
 "nbformat_minor": 4
}
